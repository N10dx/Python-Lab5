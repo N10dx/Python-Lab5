{
 "cells": [
  {
   "cell_type": "code",
   "execution_count": 1,
   "id": "2f847575",
   "metadata": {},
   "outputs": [
    {
     "data": {
      "text/plain": [
       "139"
      ]
     },
     "execution_count": 1,
     "metadata": {},
     "output_type": "execute_result"
    }
   ],
   "source": [
    "list=[5, 4, 17, 19, 30, 2, 7, 10, 45]\n",
    "sum(list)"
   ]
  },
  {
   "cell_type": "code",
   "execution_count": 2,
   "id": "e2292140",
   "metadata": {},
   "outputs": [
    {
     "data": {
      "text/plain": [
       "45"
      ]
     },
     "execution_count": 2,
     "metadata": {},
     "output_type": "execute_result"
    }
   ],
   "source": [
    "max(list)"
   ]
  },
  {
   "cell_type": "code",
   "execution_count": 4,
   "id": "204c6c48",
   "metadata": {},
   "outputs": [
    {
     "data": {
      "text/plain": [
       "[4, 30, 2, 10]"
      ]
     },
     "execution_count": 4,
     "metadata": {},
     "output_type": "execute_result"
    }
   ],
   "source": [
    "new_list_even=[x for x in list if x%2==0]\n",
    "new_list_even"
   ]
  },
  {
   "cell_type": "code",
   "execution_count": 5,
   "id": "7e7c0e05",
   "metadata": {},
   "outputs": [
    {
     "data": {
      "text/plain": [
       "[5, 4, 17, 19, 30]"
      ]
     },
     "execution_count": 5,
     "metadata": {},
     "output_type": "execute_result"
    }
   ],
   "source": [
    "Nlist=list[0:5]\n",
    "Nlist"
   ]
  },
  {
   "cell_type": "code",
   "execution_count": null,
   "id": "de05d292",
   "metadata": {},
   "outputs": [],
   "source": []
  }
 ],
 "metadata": {
  "kernelspec": {
   "display_name": "Python 3 (ipykernel)",
   "language": "python",
   "name": "python3"
  },
  "language_info": {
   "codemirror_mode": {
    "name": "ipython",
    "version": 3
   },
   "file_extension": ".py",
   "mimetype": "text/x-python",
   "name": "python",
   "nbconvert_exporter": "python",
   "pygments_lexer": "ipython3",
   "version": "3.9.13"
  }
 },
 "nbformat": 4,
 "nbformat_minor": 5
}
